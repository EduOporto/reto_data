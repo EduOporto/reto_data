{
 "cells": [
  {
   "cell_type": "code",
   "execution_count": 1,
   "metadata": {},
   "outputs": [],
   "source": [
    "from normalizer import *\n",
    "\n",
    "import numpy as np\n",
    "from sklearn.model_selection import RandomizedSearchCV, train_test_split, GridSearchCV\n",
    "from sklearn.ensemble import RandomForestRegressor"
   ]
  },
  {
   "cell_type": "code",
   "execution_count": 2,
   "metadata": {},
   "outputs": [
    {
     "data": {
      "text/html": [
       "<div>\n",
       "<style scoped>\n",
       "    .dataframe tbody tr th:only-of-type {\n",
       "        vertical-align: middle;\n",
       "    }\n",
       "\n",
       "    .dataframe tbody tr th {\n",
       "        vertical-align: top;\n",
       "    }\n",
       "\n",
       "    .dataframe thead th {\n",
       "        text-align: right;\n",
       "    }\n",
       "</style>\n",
       "<table border=\"1\" class=\"dataframe\">\n",
       "  <thead>\n",
       "    <tr style=\"text-align: right;\">\n",
       "      <th></th>\n",
       "      <th>distance</th>\n",
       "      <th>consume</th>\n",
       "      <th>speed</th>\n",
       "      <th>temp_outside</th>\n",
       "      <th>AC</th>\n",
       "      <th>rain</th>\n",
       "      <th>snow</th>\n",
       "      <th>sun</th>\n",
       "    </tr>\n",
       "  </thead>\n",
       "  <tbody>\n",
       "    <tr>\n",
       "      <th>0</th>\n",
       "      <td>5.4</td>\n",
       "      <td>3.3</td>\n",
       "      <td>32</td>\n",
       "      <td>7</td>\n",
       "      <td>0</td>\n",
       "      <td>0</td>\n",
       "      <td>0</td>\n",
       "      <td>0</td>\n",
       "    </tr>\n",
       "    <tr>\n",
       "      <th>1</th>\n",
       "      <td>2.0</td>\n",
       "      <td>9.9</td>\n",
       "      <td>21</td>\n",
       "      <td>4</td>\n",
       "      <td>0</td>\n",
       "      <td>0</td>\n",
       "      <td>0</td>\n",
       "      <td>0</td>\n",
       "    </tr>\n",
       "    <tr>\n",
       "      <th>2</th>\n",
       "      <td>14.2</td>\n",
       "      <td>5.1</td>\n",
       "      <td>32</td>\n",
       "      <td>7</td>\n",
       "      <td>0</td>\n",
       "      <td>0</td>\n",
       "      <td>0</td>\n",
       "      <td>0</td>\n",
       "    </tr>\n",
       "    <tr>\n",
       "      <th>3</th>\n",
       "      <td>16.0</td>\n",
       "      <td>4.9</td>\n",
       "      <td>25</td>\n",
       "      <td>8</td>\n",
       "      <td>0</td>\n",
       "      <td>0</td>\n",
       "      <td>0</td>\n",
       "      <td>0</td>\n",
       "    </tr>\n",
       "    <tr>\n",
       "      <th>4</th>\n",
       "      <td>11.8</td>\n",
       "      <td>4.9</td>\n",
       "      <td>25</td>\n",
       "      <td>11</td>\n",
       "      <td>0</td>\n",
       "      <td>0</td>\n",
       "      <td>0</td>\n",
       "      <td>0</td>\n",
       "    </tr>\n",
       "  </tbody>\n",
       "</table>\n",
       "</div>"
      ],
      "text/plain": [
       "   distance  consume  speed  temp_outside  AC  rain  snow  sun\n",
       "0       5.4      3.3     32             7   0     0     0    0\n",
       "1       2.0      9.9     21             4   0     0     0    0\n",
       "2      14.2      5.1     32             7   0     0     0    0\n",
       "3      16.0      4.9     25             8   0     0     0    0\n",
       "4      11.8      4.9     25            11   0     0     0    0"
      ]
     },
     "execution_count": 2,
     "metadata": {},
     "output_type": "execute_result"
    }
   ],
   "source": [
    "sp98 = pd.read_csv('data/sp98.csv')\n",
    "sp95 = pd.read_csv('data/sp95.csv')\n",
    "\n",
    "sp98.head()"
   ]
  },
  {
   "cell_type": "markdown",
   "metadata": {},
   "source": [
    "## Random Forest Regression\n",
    "\n",
    "Como descubrimos tras pobar varios tipos de dataset (con distintas variables) para varios tipos de modelos de regresión, el que mejor se adaptaba a las predicciones del consumo para ambos tipos de gasolina era el RandomForestRegression.\n",
    "\n",
    "Dicho modelo puede ser mejorado regulando los distintos prámetros de los que consta. Para esta tarea, primero implementaré un RandomizedSearchCV, funcionalidad de la librería sklearn que, dado un gran rango de valores para cada parámetro, nos ayudará a estrechar el cérco de la mejor combinación posible, probando aleatoriamente y con Cross Validation, el número de combinaciones que estén programadas.\n",
    "\n",
    "Como cada tipo de gasolina ofrece datos distintos, realizaré cada modelo por separado.\n",
    "\n",
    "### Gasolina SP98\n",
    "\n",
    "El primer paso será dividir los datos en train y test, aprovechando también para normalizar y escalar todas las variables independientes."
   ]
  },
  {
   "cell_type": "code",
   "execution_count": 4,
   "metadata": {},
   "outputs": [
    {
     "name": "stderr",
     "output_type": "stream",
     "text": [
      "/usr/local/Cellar/jupyterlab/2.2.8/libexec/lib/python3.8/site-packages/sklearn/preprocessing/_data.py:2367: UserWarning: n_quantiles (1000) is greater than the total number of samples (228). n_quantiles is set to n_samples.\n",
      "  warnings.warn(\"n_quantiles (%s) is greater than the total number \"\n"
     ]
    },
    {
     "data": {
      "image/png": "[encoded data removed]",
      "text/plain": [
       "<Figure size 864x360 with 4 Axes>"
      ]
     },
     "metadata": {
      "needs_background": "light"
     },
     "output_type": "display_data"
    },
    {
     "data": {
      "image/png": "[encoded data removed]",
      "text/plain": [
       "<Figure size 864x360 with 4 Axes>"
      ]
     },
     "metadata": {
      "needs_background": "light"
     },
     "output_type": "display_data"
    }
   ],
   "source": [
    "X_train98, X_test98, y_train98, y_test98 = normalizer(sp98, ['distance', 'speed', 'temp_outside'], train_test=True)"
   ]
  },
  {
   "cell_type": "markdown",
   "metadata": {},
   "source": [
    "### RandomizedSearchCV\n",
    "\n",
    "Una vez normalizados y escalados los datos, construimos el grid con los distintos valores que queremos que esta tome para los hiperparámetros más importantes:"
   ]
  },
  {
   "cell_type": "code",
   "execution_count": 16,
   "metadata": {},
   "outputs": [],
   "source": [
    "# Number of trees in random forest\n",
    "n_estimators = [int(x) for x in np.linspace(100, 1000, 30)]\n",
    "# Number of features to consider at every split\n",
    "max_features = ['auto', 'sqrt', 'log2']\n",
    "# Maximum number of levels in tree\n",
    "max_depth = [int(x) for x in np.linspace(10, 110, 30)]\n",
    "max_depth.append(None)\n",
    "# Minimum number of samples required to split a node\n",
    "min_samples_split = [2, 5, 10, 15, 20, 25]\n",
    "# Minimum number of samples required at each leaf node\n",
    "min_samples_leaf = [1, 2, 4, 6, 8, 10, 12]\n",
    "# Method of selecting samples for training each tree\n",
    "bootstrap = [True, False]\n",
    "# Create the random grid\n",
    "random_grid = {'n_estimators': n_estimators,\n",
    "               'max_features': max_features,\n",
    "               'max_depth': max_depth,\n",
    "               'min_samples_split': min_samples_split,\n",
    "               'min_samples_leaf': min_samples_leaf,\n",
    "               'bootstrap': bootstrap}"
   ]
  },
  {
   "cell_type": "markdown",
   "metadata": {},
   "source": [
    "Con este grid, el algoritmo tendrá a su disposición 30 x 3 x 31 x 6 x 7 x 2 = 234360 combinaciones diferentes para seleccionar aleatoriamente.\n",
    "\n",
    "¿Cuantas de esas combinaciones será probadas? Todo va a depender de los números que demos a los parámetros 'n_iter' y 'cv' en la función RandomizedSearchCV. En mi caso utilizaré 150 iteraciones con un cv de 6."
   ]
  },
  {
   "cell_type": "code",
   "execution_count": 18,
   "metadata": {},
   "outputs": [],
   "source": [
    "rf = RandomForestRegressor()\n",
    "\n",
    "rf_random_98 = RandomizedSearchCV(estimator = rf, \n",
    "                               param_distributions = random_grid, \n",
    "                               n_iter = 150,\n",
    "                               scoring = 'neg_root_mean_squared_error',\n",
    "                               cv = 6, \n",
    "                               verbose=2, \n",
    "                               random_state=42, \n",
    "                               n_jobs = -1)"
   ]
  },
  {
   "cell_type": "markdown",
   "metadata": {},
   "source": [
    "Con el modelo creado, podemos pasar a entrenarlo con X e y train."
   ]
  },
  {
   "cell_type": "code",
   "execution_count": 19,
   "metadata": {
    "scrolled": false
   },
   "outputs": [
    {
     "name": "stdout",
     "output_type": "stream",
     "text": [
      "Fitting 6 folds for each of 150 candidates, totalling 900 fits\n"
     ]
    },
    {
     "name": "stderr",
     "output_type": "stream",
     "text": [
      "[Parallel(n_jobs=-1)]: Using backend LokyBackend with 4 concurrent workers.\n",
      "[Parallel(n_jobs=-1)]: Done  33 tasks      | elapsed:   11.5s\n",
      "[Parallel(n_jobs=-1)]: Done 154 tasks      | elapsed:   44.7s\n",
      "[Parallel(n_jobs=-1)]: Done 357 tasks      | elapsed:  1.7min\n",
      "[Parallel(n_jobs=-1)]: Done 640 tasks      | elapsed:  3.1min\n",
      "[Parallel(n_jobs=-1)]: Done 900 out of 900 | elapsed:  4.2min finished\n"
     ]
    },
    {
     "data": {
      "text/plain": [
       "RandomizedSearchCV(cv=6, estimator=RandomForestRegressor(), n_iter=150,\n",
       "                   n_jobs=-1,\n",
       "                   param_distributions={'bootstrap': [True, False],\n",
       "                                        'max_depth': [10, 13, 16, 20, 23, 27,\n",
       "                                                      30, 34, 37, 41, 44, 47,\n",
       "                                                      51, 54, 58, 61, 65, 68,\n",
       "                                                      72, 75, 78, 82, 85, 89,\n",
       "                                                      92, 96, 99, 103, 106, 110, ...],\n",
       "                                        'max_features': ['auto', 'sqrt',\n",
       "                                                         'log2'],\n",
       "                                        'min_samples_leaf': [1, 2, 4, 6, 8, 10,\n",
       "                                                             12],\n",
       "                                        'min_samples_split': [2, 5, 10, 15, 20,\n",
       "                                                              25],\n",
       "                                        'n_estimators': [100, 131, 162, 193,\n",
       "                                                         224, 255, 286, 317,\n",
       "                                                         348, 379, 410, 441,\n",
       "                                                         472, 503, 534, 565,\n",
       "                                                         596, 627, 658, 689,\n",
       "                                                         720, 751, 782, 813,\n",
       "                                                         844, 875, 906, 937,\n",
       "                                                         968, 1000]},\n",
       "                   random_state=42, scoring='neg_root_mean_squared_error',\n",
       "                   verbose=2)"
      ]
     },
     "execution_count": 19,
     "metadata": {},
     "output_type": "execute_result"
    }
   ],
   "source": [
    "rf_random_98.fit(X_train98, y_train98)"
   ]
  },
  {
   "cell_type": "markdown",
   "metadata": {},
   "source": [
    "Con el modelo entrenado podemos ver los mejores parámetros escogidos, además de hacer una predicción y ver el error que esta arroja."
   ]
  },
  {
   "cell_type": "code",
   "execution_count": 25,
   "metadata": {},
   "outputs": [
    {
     "data": {
      "text/plain": [
       "{'n_estimators': 565,\n",
       " 'min_samples_split': 10,\n",
       " 'min_samples_leaf': 1,\n",
       " 'max_features': 'auto',\n",
       " 'max_depth': 58,\n",
       " 'bootstrap': True}"
      ]
     },
     "execution_count": 25,
     "metadata": {},
     "output_type": "execute_result"
    }
   ],
   "source": [
    "rf_random_98.best_params_"
   ]
  },
  {
   "cell_type": "code",
   "execution_count": 27,
   "metadata": {},
   "outputs": [
    {
     "data": {
      "text/plain": [
       "0.6094549752326692"
      ]
     },
     "execution_count": 27,
     "metadata": {},
     "output_type": "execute_result"
    }
   ],
   "source": [
    "y_pred98 = rf_random_98.predict(X_test98)\n",
    "\n",
    "from sklearn.metrics import mean_squared_error\n",
    "\n",
    "np.sqrt(mean_squared_error(y_test98, y_pred98))"
   ]
  },
  {
   "cell_type": "markdown",
   "metadata": {},
   "source": [
    "Comparando con el error arrojado en la prueba general, en este caso el RMSE se ha reducido en 0.05 más o menos, lo cual no es una gran mejora, pero si confirma que el camino escogido es bueno.\n",
    "\n",
    "En la siguiente fase podremos centrarnos en mejorar esos mejores parámetros arrojados mediante la función de sklearn 'GridSearchCV'.\n",
    "\n",
    "### GridSearchCV\n",
    "\n",
    "Como en el paso anterior, lo primero será construir otro grid, en este caso afinando los rangos de algunos parámetros como: \n",
    " - n_estimators: el mejor parámetro fue 565. En este caso probaré con una lista con 400, 500, 600 y 1000\n",
    " - min_samples_split: el mejor parámetro fue 10. En este caso probaré con 4 números por arriba y 4 por abajo de 10.\n",
    " - min_samples_leaf: el mejor parámetro fue 1, así que lo mantendré así (por defecto es 1).\n",
    " - max_features: mantendré el mejor parámetro 'auto'.\n",
    " - max_depth: el mejor parámetro fue 58, así que probaré con 30, 40, 50, 60, y 70.\n",
    " - bootstrap: mantendré el 'True' que viene por defecto.\n",
    " \n",
    "Tras este paso podremos crear el modelo de base, el algoritmo de grid search, entrenarlo y mostrar los mejores parámetros, así como analizar si el RMSE mejora."
   ]
  },
  {
   "cell_type": "code",
   "execution_count": 28,
   "metadata": {},
   "outputs": [
    {
     "name": "stdout",
     "output_type": "stream",
     "text": [
      "Fitting 6 folds for each of 270 candidates, totalling 1620 fits\n"
     ]
    },
    {
     "name": "stderr",
     "output_type": "stream",
     "text": [
      "[Parallel(n_jobs=-1)]: Using backend LokyBackend with 4 concurrent workers.\n",
      "[Parallel(n_jobs=-1)]: Done  33 tasks      | elapsed:   13.5s\n",
      "[Parallel(n_jobs=-1)]: Done 154 tasks      | elapsed:   55.3s\n",
      "[Parallel(n_jobs=-1)]: Done 357 tasks      | elapsed:  2.1min\n",
      "[Parallel(n_jobs=-1)]: Done 640 tasks      | elapsed:  3.7min\n",
      "[Parallel(n_jobs=-1)]: Done 1005 tasks      | elapsed:  5.9min\n",
      "[Parallel(n_jobs=-1)]: Done 1450 tasks      | elapsed:  9.6min\n",
      "[Parallel(n_jobs=-1)]: Done 1620 out of 1620 | elapsed: 10.6min finished\n"
     ]
    },
    {
     "data": {
      "text/plain": [
       "GridSearchCV(cv=6, estimator=RandomForestRegressor(), n_jobs=-1,\n",
       "             param_grid={'max_depth': [30, 40, 50, 60, 70],\n",
       "                         'min_samples_split': [6, 7, 8, 9, 10, 11, 12, 13, 14],\n",
       "                         'n_estimators': [400, 500, 550, 560, 600, 1000]},\n",
       "             verbose=2)"
      ]
     },
     "execution_count": 28,
     "metadata": {},
     "output_type": "execute_result"
    }
   ],
   "source": [
    "param_grid = {\n",
    "    'max_depth': [30, 40, 50, 60, 70],\n",
    "    'min_samples_split': [6,7,8,9,10,11,12,13,14],\n",
    "    'n_estimators': [400, 500, 550, 560, 600, 1000]\n",
    "}\n",
    "\n",
    "rf = RandomForestRegressor()\n",
    "\n",
    "rf_grid98 = GridSearchCV(estimator = rf, param_grid = param_grid, cv = 6, n_jobs = -1, verbose = 2)\n",
    "\n",
    "rf_grid98.fit(X_train98, y_train98)"
   ]
  },
  {
   "cell_type": "code",
   "execution_count": 29,
   "metadata": {},
   "outputs": [
    {
     "data": {
      "text/plain": [
       "{'max_depth': 50, 'min_samples_split': 14, 'n_estimators': 400}"
      ]
     },
     "execution_count": 29,
     "metadata": {},
     "output_type": "execute_result"
    }
   ],
   "source": [
    "rf_grid98.best_params_"
   ]
  },
  {
   "cell_type": "code",
   "execution_count": 30,
   "metadata": {},
   "outputs": [
    {
     "data": {
      "text/plain": [
       "0.6092306604230942"
      ]
     },
     "execution_count": 30,
     "metadata": {},
     "output_type": "execute_result"
    }
   ],
   "source": [
    "y_pred98_grid = rf_grid98.predict(X_test98)\n",
    "\n",
    "np.sqrt(mean_squared_error(y_test98, y_pred98_grid))"
   ]
  },
  {
   "cell_type": "markdown",
   "metadata": {},
   "source": [
    "El RMSE ha descendido de forma muy leve, vamos a ver qué parámetros lo han hecho posible:\n",
    " - max_depth: en este caso el mejor parámetro ha sido 50. Anteriormente fue 58, por lo que podemos pensar que el mejor parámetro para este caso está entre 50 y 60.\n",
    " - min_samples_split: en este caso han sido 14, en el anterior 10. Puede que el mejor parámetro esté entre 14 y 20.\n",
    " - n_estimators: en el anterior caso estuvo en 565, en este caso en 400, aunque el modelo tenía números más cercanos a 565 donde elegir, y, en este caso, ha podido probarlos. Podemos inferir entonces que el número óptimo para este parámetro estará más cercano a los 400.\n",
    " \n",
    "Con esta información, voy a realizar un último intento, utilizando valores más precisos."
   ]
  },
  {
   "cell_type": "code",
   "execution_count": 35,
   "metadata": {},
   "outputs": [
    {
     "name": "stdout",
     "output_type": "stream",
     "text": [
      "Fitting 6 folds for each of 462 candidates, totalling 2772 fits\n"
     ]
    },
    {
     "name": "stderr",
     "output_type": "stream",
     "text": [
      "[Parallel(n_jobs=-1)]: Using backend LokyBackend with 4 concurrent workers.\n",
      "[Parallel(n_jobs=-1)]: Done  33 tasks      | elapsed:   11.1s\n",
      "[Parallel(n_jobs=-1)]: Done 154 tasks      | elapsed:   38.5s\n",
      "[Parallel(n_jobs=-1)]: Done 357 tasks      | elapsed:  1.4min\n",
      "[Parallel(n_jobs=-1)]: Done 640 tasks      | elapsed:  2.5min\n",
      "[Parallel(n_jobs=-1)]: Done 1005 tasks      | elapsed:  3.8min\n",
      "[Parallel(n_jobs=-1)]: Done 1450 tasks      | elapsed:  5.5min\n",
      "[Parallel(n_jobs=-1)]: Done 1977 tasks      | elapsed:  7.5min\n",
      "[Parallel(n_jobs=-1)]: Done 2584 tasks      | elapsed:  9.8min\n",
      "[Parallel(n_jobs=-1)]: Done 2772 out of 2772 | elapsed: 10.5min finished\n"
     ]
    },
    {
     "data": {
      "text/plain": [
       "GridSearchCV(cv=6, estimator=RandomForestRegressor(), n_jobs=-1,\n",
       "             param_grid={'max_depth': array([50, 51, 52, 53, 54, 55, 56, 57, 58, 59, 60]),\n",
       "                         'min_samples_split': array([14, 15, 16, 17, 18, 19, 20]),\n",
       "                         'n_estimators': array([390, 394, 398, 402, 406, 410])},\n",
       "             verbose=2)"
      ]
     },
     "execution_count": 35,
     "metadata": {},
     "output_type": "execute_result"
    }
   ],
   "source": [
    "param_grid = {\n",
    "    'max_depth': np.arange(50,61,1),\n",
    "    'min_samples_split': np.arange(14,21,1),\n",
    "    'n_estimators': np.arange(390,411,4)\n",
    "}\n",
    "\n",
    "rf = RandomForestRegressor()\n",
    "\n",
    "rf_grid98_2 = GridSearchCV(estimator = rf, param_grid = param_grid, cv = 6, n_jobs = -1, verbose = 2)\n",
    "\n",
    "rf_grid98_2.fit(X_train98, y_train98)"
   ]
  },
  {
   "cell_type": "code",
   "execution_count": 36,
   "metadata": {},
   "outputs": [
    {
     "data": {
      "text/plain": [
       "{'max_depth': 51, 'min_samples_split': 19, 'n_estimators': 394}"
      ]
     },
     "execution_count": 36,
     "metadata": {},
     "output_type": "execute_result"
    }
   ],
   "source": [
    "rf_grid98_2.best_params_"
   ]
  },
  {
   "cell_type": "code",
   "execution_count": 37,
   "metadata": {},
   "outputs": [
    {
     "data": {
      "text/plain": [
       "0.6231206934062399"
      ]
     },
     "execution_count": 37,
     "metadata": {},
     "output_type": "execute_result"
    }
   ],
   "source": [
    "y_pred98_2_grid = rf_grid98_2.predict(X_test98)\n",
    "\n",
    "np.sqrt(mean_squared_error(y_test98, y_pred98_2_grid))"
   ]
  },
  {
   "cell_type": "markdown",
   "metadata": {},
   "source": [
    "### Conclusión y elección del modelo\n",
    "\n",
    "Como se puede apreciar, este último afinado de hiperparámetros ha empeorado el RMSE, por lo tanto nos quedaremos con el modelo resultante del primer Grid Search, que es el que ha arrojado un menor RMSE. Dicho modelo quedará guardado para su posterior utilización."
   ]
  },
  {
   "cell_type": "code",
   "execution_count": 72,
   "metadata": {},
   "outputs": [],
   "source": [
    "import pickle\n",
    "\n",
    "filename = 'models/sp98_rfr_model.pkl'\n",
    "with open(filename, 'wb') as file:\n",
    "    pickle.dump(rf_grid98, file)"
   ]
  },
  {
   "cell_type": "markdown",
   "metadata": {},
   "source": [
    "### Gasolina SP95\n",
    "\n",
    "Mismo procedimiento para el caso de la gasolina SP95: separamos el dataset en train y test, normalizando y escalando ambas divisiones."
   ]
  },
  {
   "cell_type": "code",
   "execution_count": 73,
   "metadata": {},
   "outputs": [
    {
     "name": "stderr",
     "output_type": "stream",
     "text": [
      "/usr/local/Cellar/jupyterlab/2.2.8/libexec/lib/python3.8/site-packages/sklearn/preprocessing/_data.py:2367: UserWarning: n_quantiles (1000) is greater than the total number of samples (160). n_quantiles is set to n_samples.\n",
      "  warnings.warn(\"n_quantiles (%s) is greater than the total number \"\n"
     ]
    },
    {
     "data": {
      "image/png": "[encoded data removed]",
      "text/plain": [
       "<Figure size 864x360 with 4 Axes>"
      ]
     },
     "metadata": {
      "needs_background": "light"
     },
     "output_type": "display_data"
    },
    {
     "data": {
      "image/png": "[encoded data removed]",
      "text/plain": [
       "<Figure size 864x360 with 4 Axes>"
      ]
     },
     "metadata": {
      "needs_background": "light"
     },
     "output_type": "display_data"
    }
   ],
   "source": [
    "X_train95, X_test95, y_train95, y_test95 = normalizer(sp95, ['distance', 'speed', 'temp_outside'], train_test=True)"
   ]
  },
  {
   "cell_type": "markdown",
   "metadata": {},
   "source": [
    "### Randomized Search\n",
    "\n",
    "Para este caso utilizaré el mismo grid search que para la gasolina SP98"
   ]
  },
  {
   "cell_type": "code",
   "execution_count": 74,
   "metadata": {},
   "outputs": [
    {
     "name": "stdout",
     "output_type": "stream",
     "text": [
      "Fitting 6 folds for each of 150 candidates, totalling 900 fits\n"
     ]
    },
    {
     "name": "stderr",
     "output_type": "stream",
     "text": [
      "[Parallel(n_jobs=-1)]: Using backend LokyBackend with 4 concurrent workers.\n",
      "[Parallel(n_jobs=-1)]: Done  33 tasks      | elapsed:   13.9s\n",
      "[Parallel(n_jobs=-1)]: Done 154 tasks      | elapsed:   46.9s\n",
      "[Parallel(n_jobs=-1)]: Done 357 tasks      | elapsed:  1.8min\n",
      "[Parallel(n_jobs=-1)]: Done 640 tasks      | elapsed:  3.1min\n",
      "[Parallel(n_jobs=-1)]: Done 900 out of 900 | elapsed:  4.2min finished\n"
     ]
    },
    {
     "data": {
      "text/plain": [
       "RandomizedSearchCV(cv=6, estimator=RandomForestRegressor(), n_iter=150,\n",
       "                   n_jobs=-1,\n",
       "                   param_distributions={'bootstrap': [True, False],\n",
       "                                        'max_depth': [10, 13, 16, 20, 23, 27,\n",
       "                                                      30, 34, 37, 41, 44, 47,\n",
       "                                                      51, 54, 58, 61, 65, 68,\n",
       "                                                      72, 75, 78, 82, 85, 89,\n",
       "                                                      92, 96, 99, 103, 106, 110, ...],\n",
       "                                        'max_features': ['auto', 'sqrt',\n",
       "                                                         'log2'],\n",
       "                                        'min_samples_leaf': [1, 2, 4, 6, 8, 10,\n",
       "                                                             12],\n",
       "                                        'min_samples_split': [2, 5, 10, 15, 20,\n",
       "                                                              25],\n",
       "                                        'n_estimators': [100, 131, 162, 193,\n",
       "                                                         224, 255, 286, 317,\n",
       "                                                         348, 379, 410, 441,\n",
       "                                                         472, 503, 534, 565,\n",
       "                                                         596, 627, 658, 689,\n",
       "                                                         720, 751, 782, 813,\n",
       "                                                         844, 875, 906, 937,\n",
       "                                                         968, 1000]},\n",
       "                   random_state=42, scoring='neg_root_mean_squared_error',\n",
       "                   verbose=2)"
      ]
     },
     "execution_count": 74,
     "metadata": {},
     "output_type": "execute_result"
    }
   ],
   "source": [
    "rf = RandomForestRegressor()\n",
    "\n",
    "rf_random_95 = RandomizedSearchCV(estimator = rf, \n",
    "                               param_distributions = random_grid, \n",
    "                               n_iter = 150,\n",
    "                               scoring = 'neg_root_mean_squared_error',\n",
    "                               cv = 6, \n",
    "                               verbose=2, \n",
    "                               random_state=42, \n",
    "                               n_jobs = -1)\n",
    "\n",
    "rf_random_95.fit(X_train95, y_train95)"
   ]
  },
  {
   "cell_type": "code",
   "execution_count": 75,
   "metadata": {},
   "outputs": [
    {
     "data": {
      "text/plain": [
       "{'n_estimators': 751,\n",
       " 'min_samples_split': 5,\n",
       " 'min_samples_leaf': 1,\n",
       " 'max_features': 'sqrt',\n",
       " 'max_depth': 37,\n",
       " 'bootstrap': True}"
      ]
     },
     "execution_count": 75,
     "metadata": {},
     "output_type": "execute_result"
    }
   ],
   "source": [
    "rf_random_95.best_params_"
   ]
  },
  {
   "cell_type": "code",
   "execution_count": 76,
   "metadata": {},
   "outputs": [
    {
     "data": {
      "text/plain": [
       "0.41356156764389795"
      ]
     },
     "execution_count": 76,
     "metadata": {},
     "output_type": "execute_result"
    }
   ],
   "source": [
    "y_pred95 = rf_random_95.predict(X_test95)\n",
    "\n",
    "np.sqrt(mean_squared_error(y_test95, y_pred95))"
   ]
  },
  {
   "cell_type": "markdown",
   "metadata": {},
   "source": [
    "En este caso el error sufre una mejora notable con respecto a la prueba general, lo cual es una muy buena noticia.\n",
    "\n",
    "Veremos si es posible mejorarlo aún más con el Grid Search\n",
    "\n",
    "### GridSearchCV\n",
    "\n",
    "Como ya hemos hecho, primero afinamos los rangos del grid:\n",
    "\n",
    " - n_estimators: el mejor parámetro fue 751. En este caso probaré con una lista con 600, 700, 800 y 1000\n",
    " - min_samples_split: el mejor parámetro fue 5. En este caso probaré con 4 números por arriba y uno por debajo.\n",
    " - min_samples_leaf: el mejor parámetro fue 1, así que lo mantendré así (por defecto es 1).\n",
    " - max_features: en este caso fue 'sqrt', que será el que mantenga.\n",
    " - max_depth: el mejor parámetro fue 37, así que probaré con 20, 30, 40, 50, y 60.\n",
    " - bootstrap: mantendré el 'True' que viene por defecto.\n",
    "\n",
    "Tras este paso podremos crear el modelo de base, el algoritmo de grid search, entrenarlo y mostrar los mejores parámetros, así como analizar si el RMSE mejora."
   ]
  },
  {
   "cell_type": "code",
   "execution_count": 77,
   "metadata": {},
   "outputs": [
    {
     "name": "stdout",
     "output_type": "stream",
     "text": [
      "Fitting 6 folds for each of 180 candidates, totalling 1080 fits\n"
     ]
    },
    {
     "name": "stderr",
     "output_type": "stream",
     "text": [
      "[Parallel(n_jobs=-1)]: Using backend LokyBackend with 4 concurrent workers.\n",
      "[Parallel(n_jobs=-1)]: Done  33 tasks      | elapsed:   19.8s\n",
      "[Parallel(n_jobs=-1)]: Done 154 tasks      | elapsed:  1.3min\n",
      "[Parallel(n_jobs=-1)]: Done 357 tasks      | elapsed:  2.7min\n",
      "[Parallel(n_jobs=-1)]: Done 640 tasks      | elapsed:  4.7min\n",
      "[Parallel(n_jobs=-1)]: Done 1005 tasks      | elapsed:  7.3min\n",
      "[Parallel(n_jobs=-1)]: Done 1080 out of 1080 | elapsed:  8.2min finished\n"
     ]
    },
    {
     "data": {
      "text/plain": [
       "GridSearchCV(cv=6, estimator=RandomForestRegressor(), n_jobs=-1,\n",
       "             param_grid={'max_depth': [20, 30, 40, 50, 60],\n",
       "                         'max_features': ['sqrt'],\n",
       "                         'min_samples_split': [4, 5, 6, 7, 8, 9],\n",
       "                         'n_estimators': [600, 700, 750, 760, 800, 1000]},\n",
       "             verbose=2)"
      ]
     },
     "execution_count": 77,
     "metadata": {},
     "output_type": "execute_result"
    }
   ],
   "source": [
    "param_grid = {\n",
    "    'max_depth': [20, 30, 40, 50, 60],\n",
    "    'min_samples_split': [4,5,6,7,8,9],\n",
    "    'n_estimators': [600, 700, 750, 760, 800, 1000],\n",
    "    'max_features': ['sqrt']\n",
    "}\n",
    "\n",
    "rf = RandomForestRegressor()\n",
    "\n",
    "rf_grid95 = GridSearchCV(estimator = rf, param_grid = param_grid, cv = 6, n_jobs = -1, verbose = 2)\n",
    "\n",
    "rf_grid95.fit(X_train95, y_train95)"
   ]
  },
  {
   "cell_type": "code",
   "execution_count": 78,
   "metadata": {},
   "outputs": [
    {
     "data": {
      "text/plain": [
       "{'max_depth': 40,\n",
       " 'max_features': 'sqrt',\n",
       " 'min_samples_split': 5,\n",
       " 'n_estimators': 750}"
      ]
     },
     "execution_count": 78,
     "metadata": {},
     "output_type": "execute_result"
    }
   ],
   "source": [
    "rf_grid95.best_params_"
   ]
  },
  {
   "cell_type": "code",
   "execution_count": 79,
   "metadata": {},
   "outputs": [
    {
     "data": {
      "text/plain": [
       "0.4214759596307983"
      ]
     },
     "execution_count": 79,
     "metadata": {},
     "output_type": "execute_result"
    }
   ],
   "source": [
    "y_pred95_gs = rf_grid95.predict(X_test95)\n",
    "\n",
    "np.sqrt(mean_squared_error(y_test95, y_pred95_gs))"
   ]
  },
  {
   "cell_type": "markdown",
   "metadata": {},
   "source": [
    "### Conclusión y elección del modelo\n",
    "\n",
    "Como se puede apreciar, este último afinado de hiperparámetros ha empeorado el RMSE, por lo tanto nos quedaremos con el modelo resultante del Randomized Search, que es el que ha arrojado un menor RMSE. Dicho modelo quedará guardado para su posterior utilización."
   ]
  },
  {
   "cell_type": "code",
   "execution_count": 90,
   "metadata": {},
   "outputs": [],
   "source": [
    "filename = 'models/sp95_rfr_model.pkl'\n",
    "\n",
    "with open(filename, 'wb') as file:\n",
    "    pickle.dump(rf_random_95, file)"
   ]
  }
 ],
 "metadata": {
  "kernelspec": {
   "display_name": "Python 3",
   "language": "python",
   "name": "python3"
  },
  "language_info": {
   "codemirror_mode": {
    "name": "ipython",
    "version": 3
   },
   "file_extension": ".py",
   "mimetype": "text/x-python",
   "name": "python",
   "nbconvert_exporter": "python",
   "pygments_lexer": "ipython3",
   "version": "3.8.5"
  }
 },
 "nbformat": 4,
 "nbformat_minor": 4
}
